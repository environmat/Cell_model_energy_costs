{
 "cells": [
  {
   "cell_type": "code",
   "execution_count": 1,
   "metadata": {},
   "outputs": [],
   "source": [
    "import cell_model as Cellmodel\n",
    "# Active materials\n",
    "NMC_cathode = Cellmodel.Activematerial_cathode(\"NMC811\" , 195, 3.86)\n",
    "LFP_cathode = Cellmodel.Activematerial_cathode(\"LFP\", 160, 3.3)\n",
    "Gr = Cellmodel.Activematerial_anode(\"Gr\", 344 , 0.17)\n",
    "LiM = Cellmodel.Activematerial_anode(\"LiM\", 3862 , 0.0)\n",
    "\n",
    "\n",
    "# Currentcollectors \n",
    "Al = Cellmodel.CurrentCollector_cathode(\"Al\", 14e-4 , 2.76)\n",
    "Cu = Cellmodel.CurrentCollector_anode(\"Cu\", 8e-4 , 8.96)"
   ]
  },
  {
   "cell_type": "markdown",
   "metadata": {},
   "source": [
    "Assumption is, that there is still some electrolyte on the cathode side. Separator is going to be solid and anode side will be Li metal. "
   ]
  },
  {
   "cell_type": "code",
   "execution_count": 2,
   "metadata": {},
   "outputs": [],
   "source": [
    "# Electrolyte \n",
    "LLZO_elyte = Cellmodel.Electrolyte_solid(\"LLZO\",\n",
    "                                         838.5, # molarmass electrolyte\n",
    "                                         6.94, # molarmass\n",
    "                                         7, # index Li in LLZO\n",
    "                                         0.2, # fraction of SE in pos electrode\n",
    "                                         5.1 # density in g cm-3\n",
    "                                        )\n",
    "Elyte_liquid = Cellmodel.Electrolyte_liquid(\"\",\"\",0,0) # need to define as a empty container for the function ...\n",
    "                                                        # to work \n",
    "\n",
    "# Separator\n",
    "Separator_LLZO = Cellmodel.Separator(\"LLZO\", 50e-4, 0.6, 5.1) #60% porosity assumption"
   ]
  },
  {
   "cell_type": "code",
   "execution_count": 3,
   "metadata": {},
   "outputs": [],
   "source": [
    "# Electrods \n",
    "positive = Cellmodel.Electrodecomposition_cathode_opt1( NMC_cathode.name ,\n",
    "                                                        3.3 , # areal capacity\n",
    "                                                        0.75 , # active material fraction\n",
    "                                                        3.4, # density CAM\n",
    "                                                        NMC_cathode) # NMC = 3.4 / LFP = 2.5\n",
    "#positive = Cellmodel.Electrodecomposition_cathode_opt1( LFP_cathode.name , 3.3 , 0.95 , 2.5, LFP_cathode) # NMC = 3.4 / LFP = 2.5\n",
    "negative = Cellmodel.Electrodecomposition_anode_opt1( LiM.name ,\n",
    "                                                      10.3 , # areal capacity, from M. Lacey: 50 µm Li ~= 10.3 mAh/cm2\n",
    "                                                      1.0 , # acive material fraction\n",
    "                                                      0.534, # density\n",
    "                                                      LiM)\n",
    "# Total cells\n",
    "test_cell = Cellmodel.Cylindrical(\"NMC-LiM-ASSB_Cyl\",\n",
    "                                  positive,\n",
    "                                  negative,\n",
    "                                  Separator_LLZO ,\n",
    "                                  LLZO_elyte,\n",
    "                                  0, # electrolyte capacity ratio ml / Ah\n",
    "                                  2.1, # diameter cell \n",
    "                                  7.0, # height cell \n",
    "                                  0.0165, # can thickness \n",
    "                                  7.9, # density can material \n",
    "                                  0.25, # void diameter\n",
    "                                  0.6, # head space\n",
    "                                  4, # extramass in g \n",
    "                                  0.94, # Li loss formation \n",
    "                                  NMC_cathode,\n",
    "                                  LiM,\n",
    "                                  Al ,\n",
    "                                  Cu\n",
    "                                  )\n"
   ]
  },
  {
   "cell_type": "code",
   "execution_count": 4,
   "metadata": {},
   "outputs": [],
   "source": [
    "test_cell = Cellmodel.Pouch(\"NMC-LiM-ASSB\" , \n",
    "                            positive, \n",
    "                            negative, \n",
    "                            Separator_LLZO , \n",
    "                            LLZO_elyte, \n",
    "                            0 , # electrolyte capacity ratio  \n",
    "                            30 , # height \n",
    "                            10 , # width\n",
    "                            35 , # nlayers\n",
    "                            113e-4, # pouch thickness\n",
    "                            1.8 , # pouch density \n",
    "                            1.0, # pouchclearance\n",
    "                            2 , # terminal height \n",
    "                            5 , # terminal width \n",
    "                            15e-4, # therminal thickness\n",
    "                            2.76 , # terminal density pos  \n",
    "                            8.96, # terminal density neg \n",
    "                            10, # extra mass \n",
    "                            0.93, # \n",
    "                            NMC_cathode, LiM)"
   ]
  },
  {
   "cell_type": "markdown",
   "metadata": {},
   "source": [
    "### Masses"
   ]
  },
  {
   "cell_type": "code",
   "execution_count": 5,
   "metadata": {},
   "outputs": [
    {
     "ename": "AttributeError",
     "evalue": "'Pouch' object has no attribute 'diameter'",
     "output_type": "error",
     "traceback": [
      "\u001b[0;31m---------------------------------------------------------------------------\u001b[0m",
      "\u001b[0;31mAttributeError\u001b[0m                            Traceback (most recent call last)",
      "\u001b[0;32m<ipython-input-5-8f8f03169b12>\u001b[0m in \u001b[0;36m<module>\u001b[0;34m\u001b[0m\n\u001b[1;32m      1\u001b[0m \u001b[0;31m# Masses\u001b[0m\u001b[0;34m\u001b[0m\u001b[0;34m\u001b[0m\u001b[0;34m\u001b[0m\u001b[0m\n\u001b[0;32m----> 2\u001b[0;31m \u001b[0mcellmass\u001b[0m\u001b[0;34m,\u001b[0m \u001b[0mHousing_mass\u001b[0m \u001b[0;34m=\u001b[0m \u001b[0mCellmodel\u001b[0m\u001b[0;34m.\u001b[0m\u001b[0mgetMass_cylindrical_total\u001b[0m\u001b[0;34m(\u001b[0m\u001b[0mpositive\u001b[0m\u001b[0;34m,\u001b[0m \u001b[0mnegative\u001b[0m\u001b[0;34m,\u001b[0m \u001b[0mAl\u001b[0m\u001b[0;34m,\u001b[0m \u001b[0mCu\u001b[0m\u001b[0;34m,\u001b[0m \u001b[0mSeparator_LLZO\u001b[0m\u001b[0;34m,\u001b[0m \u001b[0mtest_cell\u001b[0m\u001b[0;34m,\u001b[0m \u001b[0mLLZO_elyte\u001b[0m\u001b[0;34m)\u001b[0m\u001b[0;34m\u001b[0m\u001b[0;34m\u001b[0m\u001b[0m\n\u001b[0m\u001b[1;32m      3\u001b[0m \u001b[0;34m\u001b[0m\u001b[0m\n\u001b[1;32m      4\u001b[0m \u001b[0;31m## Cathode Masses\u001b[0m\u001b[0;34m\u001b[0m\u001b[0;34m\u001b[0m\u001b[0;34m\u001b[0m\u001b[0m\n\u001b[1;32m      5\u001b[0m \u001b[0;31m# Cylindrical\u001b[0m\u001b[0;34m\u001b[0m\u001b[0;34m\u001b[0m\u001b[0;34m\u001b[0m\u001b[0m\n",
      "\u001b[0;32m/home/matthias/Documents/GitHub/Cell_model_energy_costs/cell_model.py\u001b[0m in \u001b[0;36mgetMass_cylindrical_total\u001b[0;34m(Electrodecomposition_cathode_opt1, Electrodecomposition_anode_opt1, CurrentCollector_cathode, CurrentCollector_anode, Separator, Cylindrical, Electrolyte)\u001b[0m\n\u001b[1;32m    362\u001b[0m     \u001b[0mmass_elyte\u001b[0m \u001b[0;34m=\u001b[0m \u001b[0mElectrolyte\u001b[0m\u001b[0;34m.\u001b[0m\u001b[0mdensity_elyte\u001b[0m \u001b[0;34m*\u001b[0m \u001b[0mCylindrical\u001b[0m\u001b[0;34m.\u001b[0m\u001b[0mecap_ratio\u001b[0m \u001b[0;34m*\u001b[0m \u001b[0mCylindrical\u001b[0m\u001b[0;34m.\u001b[0m\u001b[0mcapacity\u001b[0m\u001b[0;34m\u001b[0m\u001b[0;34m\u001b[0m\u001b[0m\n\u001b[1;32m    363\u001b[0m     \u001b[0;31m#\u001b[0m\u001b[0;34m\u001b[0m\u001b[0;34m\u001b[0m\u001b[0;34m\u001b[0m\u001b[0m\n\u001b[0;32m--> 364\u001b[0;31m     vol_cylindrical_housing = (math.pi * (Cylindrical.diameter / 2)**2 - math.pi * ((Cylindrical.diameter - \n\u001b[0m\u001b[1;32m    365\u001b[0m                                Cylindrical.canthickness)/2)**2) * Cylindrical.height + \\\n\u001b[1;32m    366\u001b[0m                                \u001b[0;34m(\u001b[0m\u001b[0mmath\u001b[0m\u001b[0;34m.\u001b[0m\u001b[0mpi\u001b[0m \u001b[0;34m*\u001b[0m \u001b[0;34m(\u001b[0m\u001b[0mCylindrical\u001b[0m\u001b[0;34m.\u001b[0m\u001b[0mdiameter\u001b[0m \u001b[0;34m/\u001b[0m \u001b[0;36m2\u001b[0m\u001b[0;34m)\u001b[0m\u001b[0;34m**\u001b[0m\u001b[0;36m2\u001b[0m\u001b[0;34m)\u001b[0m \u001b[0;34m*\u001b[0m \u001b[0mCylindrical\u001b[0m\u001b[0;34m.\u001b[0m\u001b[0mcanthickness\u001b[0m\u001b[0;34m\u001b[0m\u001b[0;34m\u001b[0m\u001b[0m\n",
      "\u001b[0;31mAttributeError\u001b[0m: 'Pouch' object has no attribute 'diameter'"
     ]
    }
   ],
   "source": [
    "# Masses\n",
    "cellmass, Housing_mass = Cellmodel.getMass_cylindrical_total(positive, negative, Al, Cu, Separator_LLZO, test_cell, LLZO_elyte)\n",
    "\n",
    "## Cathode Masses\n",
    "# Cylindrical\n",
    "cathode_mass = Cellmodel.getMass_cathode(positive) * test_cell.jr_area * 2\n",
    "\n",
    "\n",
    "# Seperator and Elyte\n",
    "Separator_mass = Cellmodel.getMass_separator(Separator_LLZO)\n",
    "Li_abs_elyte = Cellmodel.getMass_elements_cyl_elyte_solid(LLZO_elyte, positive)\n",
    "\n",
    "### Materials\n",
    "## Cylindrical\n",
    "Ni, Co, Mn, Li, Al = Cellmodel.getMass_elements_cyl_c(positive, Al, NMC_cathode, test_cell)\n",
    "Gr, Cu, Binder_a = Cellmodel.getMass_elements_cyl_a(negative, Cu, test_cell)"
   ]
  },
  {
   "cell_type": "markdown",
   "metadata": {},
   "source": [
    "### Costs"
   ]
  },
  {
   "cell_type": "code",
   "execution_count": null,
   "metadata": {},
   "outputs": [],
   "source": [
    "## Specific Lithium costs and processing\n",
    "Pro_fac = 5.3 # CellEst Processing Factor Li_CO3\n",
    "Li_CO3 = 53500 # $/mt https://www.spglobal.com/platts/en/market-insights/latest-news/metals/020322-chinese-lithium-carbonate-hydroxide-price-spread-at-record-high\n",
    "LiOH = 47000 # $/mt\n",
    "\n",
    "Li_CO3_kg = Li_CO3/1000\n",
    "LiOH_kg = LiOH/1000\n",
    "\n",
    "Li_LFP = Li_CO3_kg * Pro_fac\n",
    "Li_NMC = LiOH_kg * Pro_fac\n",
    "\n",
    "#### Material Costs\n",
    "Ni_raw = 16\n",
    "Co_raw = 51\n",
    "Mn_raw = 2\n",
    "Li_raw = Li_LFP \n",
    "Al_raw = 2\n",
    "Al_cc_raw = 6\n",
    "Gr_raw = 12\n",
    "Cu_raw = 9\n",
    "Binder_raw = 10 \n",
    "Elyte_raw = 15\n",
    "Separator_raw = 80\n",
    "Steel_raw = 2\n",
    "Conductive_raw = 7\n",
    "\n",
    "### Cylindrical \n",
    "# # Costs Cylindrical\n",
    "Ni_costs, Co_costs, Mn_costs, Li_costs, Al_costs, Al_cc_costs, Gr_costs, Cu_costs, \\\n",
    "    Binder_costs, Elyte_costs, Separator_costs, Housing_costs, Conductive_costs = \\\n",
    "    Cellmodel.getCosts_cyl(Ni_raw, Co_raw, Mn_raw, Li_raw, Al_raw, Al_cc_raw, Gr_raw, \\\n",
    "                           Cu_raw, Binder_raw, Elyte_raw, Separator_raw, Steel_raw, Conductive_raw, Elyte_liquid)\n",
    "CAM_Metal_costs = Ni_costs + Co_costs + Mn_costs + Li_costs + Al_costs# $ \n",
    "CAM_Metal_costs_kg = CAM_Metal_costs / (cathode_mass / 1000) # $ / kg \n",
    "Material_costs = Ni_costs + Co_costs + Mn_costs + Li_costs + Al_costs + Al_cc_costs + Gr_costs + Cu_costs + Binder_costs + \\\n",
    "                Elyte_costs + Separator_costs + Housing_costs + Conductive_costs\n",
    "\n",
    "### All other costs in kWh\n",
    "Separator_costs_kwh = Separator_costs / (test_cell.energy /1000)\n",
    "Elyte_costs_kwh = Elyte_costs / (test_cell.energy /1000)\n",
    "Al_cc_costs_kwh = Al_cc_costs / (test_cell.energy /1000)\n",
    "Cu_costs_kwh = Cu_costs / (test_cell.energy /1000) \n",
    "Anode_costs_kwh = Gr_costs / (test_cell.energy /1000)\n",
    "Binder_costs_kwh = Binder_costs / (test_cell.energy /1000)\n",
    "Housing_costs_khw = Housing_costs / (test_cell.energy /1000)\n",
    "Conductive_costs_kwh = Conductive_costs / (test_cell.energy /1000)"
   ]
  },
  {
   "cell_type": "markdown",
   "metadata": {},
   "source": [
    "### Output"
   ]
  },
  {
   "cell_type": "code",
   "execution_count": null,
   "metadata": {},
   "outputs": [],
   "source": [
    "# Printing Info: \n",
    "print(\"Capacity [Ah]: \", round(test_cell.capacity,2))\n",
    "print(\"Energy [Wh]: \", round(test_cell.energy,2))\n",
    "print(\"Energy [Wh/kg]: \", round(test_cell.energy / (cellmass/1000),2))\n",
    "print(\"CAM Metal costs [EUR/kWh]: \", round(CAM_Metal_costs / (test_cell.energy /1000),2))\n",
    "print(\"AAM Metal costs [EUR/kWh]: \", round(Gr_costs / (test_cell.energy /1000),2))\n",
    "print(\"Total Material costs [EUR/kWh]: \", round(Material_costs / (test_cell.energy /1000),2))\n",
    "print(\"Li content in Electrolyte [g]:\", round((Li_abs_elyte),2))\n",
    "print(\"Li content in Cathode [g]: \", round(Li,2))\n",
    "print(\"Cell mass [g]: \", round(cellmass,2))\n",
    "print(\"Li share on total mass [%]: \", round(((Li + Li_abs_elyte)/cellmass)*100,2))"
   ]
  }
 ],
 "metadata": {
  "kernelspec": {
   "display_name": "Python 3",
   "language": "python",
   "name": "python3"
  },
  "language_info": {
   "codemirror_mode": {
    "name": "ipython",
    "version": 3
   },
   "file_extension": ".py",
   "mimetype": "text/x-python",
   "name": "python",
   "nbconvert_exporter": "python",
   "pygments_lexer": "ipython3",
   "version": "3.7.3"
  }
 },
 "nbformat": 4,
 "nbformat_minor": 2
}
