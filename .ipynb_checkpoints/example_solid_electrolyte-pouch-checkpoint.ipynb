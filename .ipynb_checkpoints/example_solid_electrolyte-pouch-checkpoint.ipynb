{
 "cells": [
  {
   "cell_type": "code",
   "execution_count": 1,
   "metadata": {},
   "outputs": [],
   "source": [
    "import cell_model as Cellmodel\n",
    "# Active materials\n",
    "NMC_cathode = Cellmodel.Activematerial_cathode(\"NMC811\" , 195, 3.86)\n",
    "LFP_cathode = Cellmodel.Activematerial_cathode(\"LFP\", 160, 3.3)\n",
    "Gr = Cellmodel.Activematerial_anode(\"Gr\", 344 , 0.17)\n",
    "LiM = Cellmodel.Activematerial_anode(\"LiM\", 3862 , 0.0)\n",
    "\n",
    "\n",
    "# Currentcollectors \n",
    "Al = Cellmodel.CurrentCollector_cathode(\"Al\", 14e-4 , 2.76)\n",
    "Cu = Cellmodel.CurrentCollector_anode(\"Cu\", 8e-4 , 8.96)"
   ]
  },
  {
   "cell_type": "markdown",
   "metadata": {},
   "source": [
    "Assumption is, that there is no liquid electrolyte on the cathode side. Separator is going to be solid and anode side will be Li metal. "
   ]
  },
  {
   "cell_type": "code",
   "execution_count": 2,
   "metadata": {},
   "outputs": [],
   "source": [
    "# Electrolyte \n",
    "LLZO_elyte = Cellmodel.Electrolyte_solid(\"LLZO\",\n",
    "                                         838.5, # molarmass electrolyte\n",
    "                                         6.94, # molarmass\n",
    "                                         7, # index Li in LLZO\n",
    "                                         0.15, # fraction of SE in pos electrode\n",
    "                                         5.1 # density in g cm-3\n",
    "                                        )\n",
    "Elyte_liquid = Cellmodel.Electrolyte_liquid(\"\",\"\",0,0) # need to define as a empty container for the function ...\n",
    "                                                        # to work \n",
    "\n",
    "# Separator\n",
    "Separator_LLZO = Cellmodel.Separator(\"LLZO\", \n",
    "                                     40e-4, # thickness\n",
    "                                     0.7, # porosity\n",
    "                                     5.1 # density g cm-3\n",
    "                                    ) "
   ]
  },
  {
   "cell_type": "code",
   "execution_count": 3,
   "metadata": {},
   "outputs": [],
   "source": [
    "# Electrods \n",
    "positive = Cellmodel.Electrodecomposition_cathode_opt1( NMC_cathode.name ,\n",
    "                                                        3.3 , # areal capacity\n",
    "                                                        0.80 , # active material fraction\n",
    "                                                        3.4, # density CAM\n",
    "                                                        NMC_cathode) # NMC = 3.4 / LFP = 2.5\n",
    "#positive = Cellmodel.Electrodecomposition_cathode_opt1( LFP_cathode.name , 3.3 , 0.95 , 2.5, LFP_cathode) # NMC = 3.4 / LFP = 2.5\n",
    "negative = Cellmodel.Electrodecomposition_anode_opt1( LiM.name ,\n",
    "                                                      10.3 , # areal capacity, from M. Lacey: 50 µm Li ~= 10.3 mAh/cm2\n",
    "                                                      1.0 , # acive material fraction\n",
    "                                                      0.534, # density\n",
    "                                                      LiM)\n"
   ]
  },
  {
   "cell_type": "code",
   "execution_count": 4,
   "metadata": {},
   "outputs": [],
   "source": [
    "# dimensions following SES 25 layer pouch example \n",
    "\n",
    "test_cell = Cellmodel.Pouch(\"NMC-LiM-ASSB\" , \n",
    "                            positive, \n",
    "                            negative, \n",
    "                            Separator_LLZO , \n",
    "                            LLZO_elyte, \n",
    "                            0 , # electrolyte capacity ratio  \n",
    "                            7.15 , # height in cm\n",
    "                            4.84 , # width in cm\n",
    "                            25 , # nlayers\n",
    "                            113e-4, # pouch thickness\n",
    "                            1.8 , # pouch density \n",
    "                            1.0, # pouchclearance\n",
    "                            2 , # terminal height \n",
    "                            5 , # terminal width \n",
    "                            15e-4, # therminal thickness\n",
    "                            2.76 , # terminal density pos  \n",
    "                            8.96, # terminal density neg \n",
    "                            10, # extra mass \n",
    "                            0.93, # \n",
    "                            NMC_cathode, LiM)"
   ]
  },
  {
   "cell_type": "markdown",
   "metadata": {},
   "source": [
    "### Masses"
   ]
  },
  {
   "cell_type": "code",
   "execution_count": 5,
   "metadata": {},
   "outputs": [],
   "source": [
    "# Masses\n",
    "cellmass, pouch_mass = Cellmodel.getMass_Pouch_total(positive, \n",
    "                                                     negative, \n",
    "                                                     Al, \n",
    "                                                     Cu, \n",
    "                                                     Separator_LLZO, \n",
    "                                                     test_cell, \n",
    "                                                     LLZO_elyte)\n",
    "\n",
    "## Cathode Masses\n",
    "# Cylindrical\n",
    "cathode_mass = Cellmodel.getMass_cathode(positive) * test_cell.jr_area * test_cell.nlayers\n",
    "\n",
    "\n",
    "# Seperator and Elyte\n",
    "Separator_mass = Cellmodel.getMass_separator(Separator_LLZO)\n",
    "Electrolyte_solid_mass = Cellmodel.getMass_electrolyte_solid(LLZO_elyte, positive)\n",
    "Li_abs_elyte = Cellmodel.getMass_elements_elyte_solid(LLZO_elyte, positive)\n",
    "Li_abs_sep = Cellmodel.getMass_elements_pouch_separator_solid(LLZO_elyte, Separator_LLZO, test_cell)\n",
    "\n",
    "### Materials\n",
    "## Cylindrical\n",
    "Ni, Co, Mn, Li, Al = Cellmodel.getMass_elements_pouch_c(positive, Al, NMC_cathode, test_cell)\n",
    "Gr, Cu, Binder_a = Cellmodel.getMass_elements_pouch_a(negative, Cu, test_cell)"
   ]
  },
  {
   "cell_type": "markdown",
   "metadata": {},
   "source": [
    "### Costs"
   ]
  },
  {
   "cell_type": "code",
   "execution_count": 6,
   "metadata": {},
   "outputs": [],
   "source": [
    "## Specific Lithium costs and processing\n",
    "Pro_fac = 5.3 # CellEst Processing Factor Li_CO3\n",
    "Li_CO3 = 53500 # $/mt https://www.spglobal.com/platts/en/market-insights/latest-news/metals/020322-chinese-lithium-carbonate-hydroxide-price-spread-at-record-high\n",
    "LiOH = 47000 # $/mt\n",
    "\n",
    "Li_CO3_kg = Li_CO3/1000\n",
    "LiOH_kg = LiOH/1000\n",
    "\n",
    "Li_LFP = Li_CO3_kg * Pro_fac\n",
    "Li_NMC = LiOH_kg * Pro_fac\n",
    "\n",
    "#### Material Costs\n",
    "Ni_raw = 16\n",
    "Co_raw = 51\n",
    "Mn_raw = 2\n",
    "Li_raw = Li_LFP \n",
    "Al_raw = 2\n",
    "Al_cc_raw = 6\n",
    "Gr_raw = 12\n",
    "Cu_raw = 9\n",
    "Binder_raw = 10 \n",
    "Elyte_raw = 15\n",
    "Separator_raw = 80\n",
    "Steel_raw = 2\n",
    "Conductive_raw = 7\n",
    "\n",
    "### Cylindrical \n",
    "# # Costs Cylindrical\n",
    "Ni_costs, Co_costs, Mn_costs, Li_costs, Al_costs, Al_cc_costs, Gr_costs, Cu_costs, \\\n",
    "    Binder_costs, Elyte_costs, Separator_costs, Housing_costs, Conductive_costs = \\\n",
    "    Cellmodel.getCosts_pouch(Ni_raw, \n",
    "                             Co_raw, \n",
    "                             Mn_raw, \n",
    "                             Li_raw, \n",
    "                             Al_raw, \n",
    "                             Al_cc_raw, \n",
    "                             Gr_raw, \n",
    "                             Cu_raw, \n",
    "                             Binder_raw, \n",
    "                             Elyte_raw, \n",
    "                             Separator_raw, \n",
    "                             Steel_raw, \n",
    "                             Conductive_raw, \n",
    "                             Elyte_liquid)\n",
    "CAM_Metal_costs = Ni_costs + Co_costs + Mn_costs + Li_costs + Al_costs# $ \n",
    "CAM_Metal_costs_kg = CAM_Metal_costs / (cathode_mass / 1000) # $ / kg \n",
    "Material_costs = Ni_costs + Co_costs + Mn_costs + Li_costs + Al_costs + Al_cc_costs + Gr_costs + Cu_costs + Binder_costs + \\\n",
    "                Elyte_costs + Separator_costs + Housing_costs + Conductive_costs\n",
    "\n",
    "### All other costs in kWh\n",
    "Separator_costs_kwh = Separator_costs / (test_cell.energy /1000)\n",
    "Elyte_costs_kwh = Elyte_costs / (test_cell.energy /1000)\n",
    "Al_cc_costs_kwh = Al_cc_costs / (test_cell.energy /1000)\n",
    "Cu_costs_kwh = Cu_costs / (test_cell.energy /1000) \n",
    "Anode_costs_kwh = Gr_costs / (test_cell.energy /1000)\n",
    "Binder_costs_kwh = Binder_costs / (test_cell.energy /1000)\n",
    "Housing_costs_khw = Housing_costs / (test_cell.energy /1000)\n",
    "Conductive_costs_kwh = Conductive_costs / (test_cell.energy /1000)"
   ]
  },
  {
   "cell_type": "markdown",
   "metadata": {},
   "source": [
    "### Output"
   ]
  },
  {
   "cell_type": "code",
   "execution_count": 7,
   "metadata": {},
   "outputs": [
    {
     "name": "stdout",
     "output_type": "stream",
     "text": [
      "Capacity [Ah]:  5.31\n",
      "Energy [Wh]:  20.5\n",
      "Energy [Wh/kg]:  254.24\n",
      "CAM Metal costs [EUR/kWh]:  49.35\n",
      "AAM Metal costs [EUR/kWh]:  2.7\n",
      "Total Material costs [EUR/kWh]:  196.79\n",
      "Li content in Electrolyte and Separator[g]: 1.11\n",
      "Li content in Cathode [g]:  2.31\n",
      "Cell mass [g]:  80.62\n",
      "Li share on total mass [%]:  4.24\n"
     ]
    }
   ],
   "source": [
    "# Printing Info: \n",
    "print(\"Capacity [Ah]: \", round(test_cell.capacity,2))\n",
    "print(\"Energy [Wh]: \", round(test_cell.energy,2))\n",
    "print(\"Energy [Wh/kg]: \", round(test_cell.energy / (cellmass/1000),2))\n",
    "print(\"CAM Metal costs [EUR/kWh]: \", round(CAM_Metal_costs / (test_cell.energy /1000),2))\n",
    "print(\"AAM Metal costs [EUR/kWh]: \", round(Gr_costs / (test_cell.energy /1000),2))\n",
    "print(\"Total Material costs [EUR/kWh]: \", round(Material_costs / (test_cell.energy /1000),2))\n",
    "print(\"Li content in Electrolyte and Separator[g]:\", round((Li_abs_elyte+Li_abs_sep),2))\n",
    "print(\"Li content in Cathode [g]: \", round(Li,2))\n",
    "print(\"Cell mass [g]: \", round(cellmass,2))\n",
    "print(\"Li share on total mass [%]: \", round(((Li + Li_abs_elyte+ Li_abs_sep)/cellmass)*100,2))"
   ]
  }
 ],
 "metadata": {
  "kernelspec": {
   "display_name": "Python 3 (ipykernel)",
   "language": "python",
   "name": "python3"
  },
  "language_info": {
   "codemirror_mode": {
    "name": "ipython",
    "version": 3
   },
   "file_extension": ".py",
   "mimetype": "text/x-python",
   "name": "python",
   "nbconvert_exporter": "python",
   "pygments_lexer": "ipython3",
   "version": "3.9.13"
  }
 },
 "nbformat": 4,
 "nbformat_minor": 2
}
