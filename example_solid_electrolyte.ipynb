{
 "cells": [
  {
   "cell_type": "code",
   "execution_count": 1,
   "metadata": {},
   "outputs": [],
   "source": [
    "import cell_model_v004 as Cellmodel\n",
    "# Active materials\n",
    "NMC_cathode = Cellmodel.Activematerial_cathode(\"NMC811\" , 195, 3.86)\n",
    "LFP_cathode = Cellmodel.Activematerial_cathode(\"LFP\", 160, 3.3)\n",
    "Gr = Cellmodel.Activematerial_anode(\"Gr\", 344 , 0.17)\n",
    "\n",
    "# Currentcollectors \n",
    "Al = Cellmodel.CurrentCollector_cathode(\"Al\", 14e-4 , 2.76)\n",
    "Cu = Cellmodel.CurrentCollector_anode(\"Cu\", 8e-4 , 8.96)"
   ]
  },
  {
   "cell_type": "markdown",
   "metadata": {},
   "source": [
    "Assumption is, that there is still some electrolyte on the cathode side. Separator is going to be solid and anode side will be Li metal. "
   ]
  },
  {
   "cell_type": "code",
   "execution_count": 2,
   "metadata": {},
   "outputs": [],
   "source": [
    "# Electrolyte \n",
    "# LP40_standard = Cellmodel.Electrolyte(\"LLZO\" , \"\",\n",
    "#                                       0.0065, # concentration mol / L from assuming 6.5 mol/m3\n",
    "#                                       838.4 # MolarMass LLZO\n",
    "#                                       )\n",
    "\n",
    "# Separator\n",
    "LLZO = Cellmodel.Separator(\"LLZO\" , \n",
    "                           30e-4 , # thickness  \n",
    "                           0.0 , # porosity \n",
    "                           5.1 # density sc\n",
    "                          ) "
   ]
  },
  {
   "cell_type": "code",
   "execution_count": 4,
   "metadata": {},
   "outputs": [],
   "source": [
    "# Electrodes \n",
    "positive = Cellmodel.Electrodecomposition_cathode_opt1( NMC_cathode.name , \n",
    "                                                       3.3 , # areal capacity\n",
    "                                                       0.95 , # active material fraction\n",
    "                                                       3.4, # density\n",
    "                                                       NMC_cathode) # NMC = 3.4 / LFP = 2.5\n",
    "#positive = Cellmodel.Electrodecomposition_cathode_opt1( LFP_cathode.name , 3.3 , 0.95 , 2.5, LFP_cathode) # NMC = 3.4 / LFP = 2.5\n",
    "negative = Cellmodel.Electrodecomposition_anode_opt1( Gr.name , \n",
    "                                                     3.3*1.1 , # areal capacity\n",
    "                                                     0.965 ,  # active material fraction\n",
    "                                                     1.6, # density \n",
    "                                                     Gr)\n",
    "\n",
    "### Total cells\n",
    "test_cell = Cellmodel.Cylindrical(\"NMC-Gr_Cyl\", \n",
    "                                  positive, negative, \n",
    "                                  LLZO , \n",
    "                                  LP40_standard,\n",
    "                                  1.7*0.33,# electrolyte capacity ratio ml / Ah\n",
    "                                  2.1, # diameter cell \n",
    "                                  7.0, # height cell \n",
    "                                  0.0165, # can thickness\n",
    "                                  7.9, # density can material \n",
    "                                  0.25, # void diameter\n",
    "                                  0.6, # head space\n",
    "                                  4, # extramass in g\n",
    "                                  0.94, # Li loss formation\n",
    "                                  NMC_cathode, Gr, Al , Cu)"
   ]
  }
 ],
 "metadata": {
  "kernelspec": {
   "display_name": "Python 3",
   "language": "python",
   "name": "python3"
  },
  "language_info": {
   "codemirror_mode": {
    "name": "ipython",
    "version": 3
   },
   "file_extension": ".py",
   "mimetype": "text/x-python",
   "name": "python",
   "nbconvert_exporter": "python",
   "pygments_lexer": "ipython3",
   "version": "3.7.3"
  }
 },
 "nbformat": 4,
 "nbformat_minor": 2
}
